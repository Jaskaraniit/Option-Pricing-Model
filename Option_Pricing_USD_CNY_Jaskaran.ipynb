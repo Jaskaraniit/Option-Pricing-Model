{
 "cells": [
  {
   "cell_type": "markdown",
   "id": "daa3bf0b",
   "metadata": {},
   "source": [
    "# Option Pricing Project – USD/CNY\n",
    "**Name:** Jaskaran Singh  \n",
    "**Entry Number:** 2023MCB1297"
   ]
  },
  {
   "cell_type": "code",
   "execution_count": null,
   "id": "3e3d192a",
   "metadata": {},
   "outputs": [],
   "source": [
    "import numpy as np\n",
    "import pandas as pd\n",
    "import matplotlib.pyplot as plt\n",
    "import seaborn as sns\n",
    "import yfinance as yf\n",
    "from scipy import stats\n",
    "from statsmodels.graphics.gofplots import qqplot\n",
    "import datetime\n",
    "from numpy.random import normal\n",
    "from math import exp, sqrt, log\n",
    "from scipy.stats import norm"
   ]
  },
  {
   "cell_type": "code",
   "execution_count": null,
   "id": "ad388a88",
   "metadata": {},
   "outputs": [],
   "source": [
    "# Download historical data\n",
    "ticker = 'USDCNY=X'\n",
    "data = yf.download(ticker, progress=False)\n",
    "data = data.dropna()\n",
    "data.to_csv('USDCNY.csv')\n",
    "data.head()"
   ]
  },
  {
   "cell_type": "code",
   "execution_count": null,
   "id": "b20cdb0f",
   "metadata": {},
   "outputs": [],
   "source": [
    "# Plot the closing prices\n",
    "plt.figure(figsize=(10,5))\n",
    "plt.plot(data['Close'], label='USD/CNY Exchange Rate')\n",
    "plt.title('USD/CNY Exchange Rate')\n",
    "plt.xlabel('Date')\n",
    "plt.ylabel('Exchange Rate')\n",
    "plt.legend()\n",
    "plt.grid(True)\n",
    "plt.show()"
   ]
  },
  {
   "cell_type": "code",
   "execution_count": null,
   "id": "fb77131e",
   "metadata": {},
   "outputs": [],
   "source": [
    "# Compute log returns\n",
    "data['LogReturn'] = np.log(data['Close'] / data['Close'].shift(1))\n",
    "log_returns = data['LogReturn'].dropna()\n",
    "\n",
    "# Plot histogram and QQ plot\n",
    "plt.figure(figsize=(12,5))\n",
    "plt.subplot(1,2,1)\n",
    "sns.histplot(log_returns, kde=True)\n",
    "plt.title('Histogram of Log Returns')\n",
    "plt.subplot(1,2,2)\n",
    "qqplot(log_returns, line='s')\n",
    "plt.title('QQ Plot of Log Returns')\n",
    "plt.tight_layout()\n",
    "plt.show()\n",
    "\n",
    "# Statistical tests\n",
    "jb_test = stats.jarque_bera(log_returns)\n",
    "ks_test = stats.kstest(log_returns, 'norm', args=(log_returns.mean(), log_returns.std()))\n",
    "ad_test = stats.anderson(log_returns, dist='norm')\n",
    "\n",
    "jb_test, ks_test, ad_test"
   ]
  },
  {
   "cell_type": "code",
   "execution_count": null,
   "id": "c4efaff4",
   "metadata": {},
   "outputs": [],
   "source": [
    "# Annualized historical volatility\n",
    "volatility = np.std(log_returns) * np.sqrt(252)\n",
    "volatility"
   ]
  },
  {
   "cell_type": "markdown",
   "id": "50431fc6",
   "metadata": {},
   "source": [
    "**Note:** Risk-free rate data (3-month treasury yield for both USD and CNY) should be manually added below or retrieved via a suitable financial data API. Assume here:  \n",
    "- USD 3-month rate: 5.00%  \n",
    "- CNY 3-month rate: 2.00%"
   ]
  },
  {
   "cell_type": "code",
   "execution_count": null,
   "id": "d123d4cd",
   "metadata": {},
   "outputs": [],
   "source": [
    "# Autocorrelation plot\n",
    "from statsmodels.graphics.tsaplots import plot_acf\n",
    "plot_acf(log_returns, lags=30)\n",
    "plt.title('Autocorrelation of Log Returns')\n",
    "plt.show()"
   ]
  },
  {
   "cell_type": "code",
   "execution_count": null,
   "id": "e6358f5e",
   "metadata": {},
   "outputs": [],
   "source": [
    "# Parameters for option pricing\n",
    "S = data['Close'][-1]  # Current price\n",
    "K = S                  # ATM option\n",
    "T = (datetime.datetime(2025, 5, 31) - datetime.datetime.today()).days / 365\n",
    "r = 0.05  # USD rate\n",
    "q = 0.02  # CNY rate\n",
    "sigma = volatility\n",
    "T, S, K, r, q, sigma"
   ]
  },
  {
   "cell_type": "code",
   "execution_count": null,
   "id": "001bd827",
   "metadata": {},
   "outputs": [],
   "source": [
    "# CRR binomial model\n",
    "def CRR_option_price(S, K, T, r, sigma, N=100, option_type='call'):\n",
    "    dt = T / N\n",
    "    u = np.exp(sigma * np.sqrt(dt))\n",
    "    d = 1 / u\n",
    "    p = (np.exp((r - q) * dt) - d) / (u - d)\n",
    "    disc = np.exp(-r * dt)\n",
    "    \n",
    "    # Initialize asset prices at maturity\n",
    "    ST = np.array([S * (u**j) * (d**(N-j)) for j in range(N+1)])\n",
    "    if option_type == 'call':\n",
    "        option_values = np.maximum(ST - K, 0)\n",
    "    else:\n",
    "        option_values = np.maximum(K - ST, 0)\n",
    "    \n",
    "    # Backward induction\n",
    "    for i in range(N-1, -1, -1):\n",
    "        option_values = disc * (p * option_values[1:] + (1-p) * option_values[:-1])\n",
    "    \n",
    "    return option_values[0]\n",
    "\n",
    "call_crr = CRR_option_price(S, K, T, r, sigma, option_type='call')\n",
    "put_crr = CRR_option_price(S, K, T, r, sigma, option_type='put')\n",
    "call_crr, put_crr"
   ]
  },
  {
   "cell_type": "code",
   "execution_count": null,
   "id": "a5abefdd",
   "metadata": {},
   "outputs": [],
   "source": [
    "# Black-Scholes for currency option\n",
    "def black_scholes_currency(S, K, T, r, q, sigma, option_type='call'):\n",
    "    d1 = (np.log(S / K) + (r - q + 0.5 * sigma**2)*T) / (sigma * np.sqrt(T))\n",
    "    d2 = d1 - sigma * np.sqrt(T)\n",
    "    if option_type == 'call':\n",
    "        return S * np.exp(-q*T) * norm.cdf(d1) - K * np.exp(-r*T) * norm.cdf(d2)\n",
    "    else:\n",
    "        return K * np.exp(-r*T) * norm.cdf(-d2) - S * np.exp(-q*T) * norm.cdf(-d1)\n",
    "\n",
    "call_bs = black_scholes_currency(S, K, T, r, q, sigma, 'call')\n",
    "put_bs = black_scholes_currency(S, K, T, r, q, sigma, 'put')\n",
    "call_bs, put_bs"
   ]
  },
  {
   "cell_type": "code",
   "execution_count": null,
   "id": "4a7d745c",
   "metadata": {},
   "outputs": [],
   "source": [
    "# Monte Carlo Simulation\n",
    "def monte_carlo_option_price(S, K, T, r, q, sigma, num_sim=10000, option_type='call'):\n",
    "    np.random.seed(42)\n",
    "    Z = np.random.standard_normal(num_sim)\n",
    "    ST = S * np.exp((r - q - 0.5 * sigma**2)*T + sigma * np.sqrt(T) * Z)\n",
    "    if option_type == 'call':\n",
    "        payoffs = np.maximum(ST - K, 0)\n",
    "    else:\n",
    "        payoffs = np.maximum(K - ST, 0)\n",
    "    return np.exp(-r*T) * np.mean(payoffs)\n",
    "\n",
    "call_mc = monte_carlo_option_price(S, K, T, r, q, sigma, option_type='call')\n",
    "put_mc = monte_carlo_option_price(S, K, T, r, q, sigma, option_type='put')\n",
    "call_mc, put_mc"
   ]
  },
  {
   "cell_type": "code",
   "execution_count": null,
   "id": "a75f3ee8",
   "metadata": {},
   "outputs": [],
   "source": [
    "# Comparison Table\n",
    "methods = ['CRR', 'Black-Scholes', 'Monte Carlo']\n",
    "call_prices = [call_crr, call_bs, call_mc]\n",
    "put_prices = [put_crr, put_bs, put_mc]\n",
    "\n",
    "summary_df = pd.DataFrame({'Method': methods, 'Call Price': call_prices, 'Put Price': put_prices})\n",
    "summary_df"
   ]
  }
 ],
 "metadata": {},
 "nbformat": 4,
 "nbformat_minor": 5
}
